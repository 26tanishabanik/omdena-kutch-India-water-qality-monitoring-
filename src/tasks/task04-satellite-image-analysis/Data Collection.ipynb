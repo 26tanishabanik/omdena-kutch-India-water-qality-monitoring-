{
  "nbformat": 4,
  "nbformat_minor": 0,
  "metadata": {
    "colab": {
      "name": "Water_Quality_parameters_Shinai_Lake.ipynb",
      "provenance": []
    },
    "kernelspec": {
      "name": "python3",
      "display_name": "Python 3"
    },
    "language_info": {
      "name": "python"
    }
  },
  "cells": [
    {
      "cell_type": "markdown",
      "source": [
        "## Install the library"
      ],
      "metadata": {
        "id": "nXigFJJmFT6H"
      }
    },
    {
      "cell_type": "code",
      "execution_count": null,
      "metadata": {
        "id": "cHg2x69pRTUI"
      },
      "outputs": [],
      "source": [
        "!pip install geemap"
      ]
    },
    {
      "cell_type": "markdown",
      "source": [
        "## Import the Libraries"
      ],
      "metadata": {
        "id": "akSzkNnjDjjj"
      }
    },
    {
      "cell_type": "code",
      "source": [
        "import os\n",
        "import ee\n",
        "import geemap\n",
        "import ipywidgets as widgets\n",
        "import pandas as pd\n",
        "import numpy as np"
      ],
      "metadata": {
        "id": "mROxqOGXRodj"
      },
      "execution_count": null,
      "outputs": []
    },
    {
      "cell_type": "markdown",
      "source": [
        "## Authenticate and Initialise with your account associated with Google Earth Engine"
      ],
      "metadata": {
        "id": "vHcQKgMgDvLH"
      }
    },
    {
      "cell_type": "code",
      "source": [
        "ee.Authenticate()\n",
        "ee.Initialize()"
      ],
      "metadata": {
        "id": "OZ6iWsupRr5o"
      },
      "execution_count": null,
      "outputs": []
    },
    {
      "cell_type": "markdown",
      "source": [
        "## Data Range"
      ],
      "metadata": {
        "id": "TIOjvIVuD5Sy"
      }
    },
    {
      "cell_type": "code",
      "source": [
        "start_date = '2021-01-01'\n",
        "end_date = '2021-06-30'"
      ],
      "metadata": {
        "id": "Fg3ayqP9Rva2"
      },
      "execution_count": null,
      "outputs": []
    },
    {
      "cell_type": "markdown",
      "source": [
        "# Finding water quality parameters"
      ],
      "metadata": {
        "id": "RARrenw0D8zm"
      }
    },
    {
      "cell_type": "markdown",
      "source": [
        "### Sentinel-2A"
      ],
      "metadata": {
        "id": "oUu5vU3_EBLs"
      }
    },
    {
      "cell_type": "code",
      "source": [
        "Map = geemap.Map()\n",
        "\n",
        "# Kankaria Lake, Ahmedabad\n",
        "\n",
        "geometry1 = ee.Geometry.Point([72.6026,23.0063])\n",
        "\n",
        "geometry = ee.Geometry.Polygon([\n",
        "    [72.5986408493042,23.006549566021803],\n",
        "   [72.59902708740235,23.004890477468116],\n",
        "   [72.60070078582764,23.003863412427236],\n",
        "   [72.60040037841797,23.007142092704626],\n",
        "   [72.60215990753174,23.006668071566512],\n",
        "   [72.60173075408936,23.003784407100333],\n",
        "    [72.60366194458008,23.00516699364359],\n",
        "   [72.60374777526856,23.00686558057643],\n",
        "    [72.6026748916626,23.00805062856477],\n",
        "    [72.60082953186036,23.00880115357416],\n",
        "    [72.59945624084473,23.00809012998513],\n",
        "    [72.5986408493042,23.006549566021803]\n",
        "])\n",
        "\n",
        "Map.addLayer(geometry1)\n",
        "sentinel = ee.ImageCollection(\"COPERNICUS/S2_SR\").filterBounds(geometry) \\\n",
        "               .filterDate(start_date,end_date) \\\n",
        "               .filter(ee.Filter.lt('CLOUDY_PIXEL_PERCENTAGE',20)) \\\n",
        "               .median()\n",
        "\n",
        "\n",
        "mndwi = sentinel.normalizedDifference(['B3','B11']).rename('mndwi')\n",
        "mndwitr = mndwi.gt(0)\n",
        "ndsi = sentinel.normalizedDifference(['B11','B12']).rename('ndsi')\n",
        "ndti = sentinel.normalizedDifference(['B4','B3']).rename('ndti')\n",
        "\n",
        "ndci = sentinel.normalizedDifference(['B5','B4']).rename('ndci')\n",
        "\n",
        "\n",
        "ph  = ee.Image(8.339).subtract(ee.Image(0.827).multiply(sentinel.select('B1').divide(sentinel.select('B8')))).rename('ph')\n",
        "\n",
        "dissolvedoxygen  = ee.Image(-0.0167).multiply(sentinel.select('B8')).add(ee.Image(0.0067).multiply(sentinel.select('B9'))).add(ee.Image(0.0083).multiply(sentinel.select('B11'))).add(ee.Image(9.577)).rename('dissolvedoxygen')\n"
      ],
      "metadata": {
        "id": "rM2ybOBbRvYA"
      },
      "execution_count": null,
      "outputs": []
    },
    {
      "cell_type": "markdown",
      "source": [
        "### Landsat-8"
      ],
      "metadata": {
        "id": "uOXuNFB0EGPO"
      }
    },
    {
      "cell_type": "code",
      "source": [
        "col = ee.ImageCollection('LANDSAT/LC08/C02/T1_L2') \\\n",
        ".filterDate(start_date,end_date) \\\n",
        ".filterBounds(geometry).median()\n",
        "\n",
        "temp  = col.select('ST_B.*').multiply(0.00341802).add(149.0).subtract(273.15).rename('temp')\n",
        "\n"
      ],
      "metadata": {
        "id": "DAUeyxcvmpvF"
      },
      "execution_count": null,
      "outputs": []
    },
    {
      "cell_type": "markdown",
      "source": [
        "### Sentinel-3"
      ],
      "metadata": {
        "id": "fQ2Edl3jtf9B"
      }
    },
    {
      "cell_type": "markdown",
      "source": [
        "### Test Data"
      ],
      "metadata": {
        "id": "8Xgcktd3kJAP"
      }
    },
    {
      "cell_type": "code",
      "source": [
        "starting = '2021-01-01'\n",
        "ending = '2021-08-31'\n",
        "\n",
        "data = ee.ImageCollection('COPERNICUS/S3/OLCI').filterDate(starting, ending).filterBounds(geometry)\n",
        "\n",
        "rgb = data.select(['Oa08_radiance', 'Oa06_radiance', 'Oa04_radiance'])\\\n",
        "              .median().multiply(ee.Image([0.00876539, 0.0123538, 0.0115198])).clip(geometry)\n",
        "dm_2021_Jan_August_test = rgb.select('Oa08_radiance').divide(rgb.select('Oa04_radiance')).rename('dom')\n",
        "suspended_matter_2021_Jan_August_test= rgb.select('Oa08_radiance').divide(rgb.select('Oa06_radiance')).rename('suspended_matter')\n",
        "\n",
        "\n",
        "latlon = ee.Image.pixelLonLat().addBands(dm_2021_Jan_August_test)\n",
        "# apply reducer to list\n",
        "latlon = latlon.reduceRegion(\n",
        "  reducer=ee.Reducer.toList(),\n",
        "  geometry=geometry,\n",
        "  scale=100,\n",
        "  tileScale = 16);\n",
        "# get data into three different arrays\n",
        "data_dom_2021_Jan_August_test = np.array((ee.Array(latlon.get(\"dom\")).getInfo()))\n",
        "\n",
        "latlon = ee.Image.pixelLonLat().addBands(suspended_matter_2021_Jan_August_test)\n",
        "# apply reducer to list\n",
        "latlon = latlon.reduceRegion(\n",
        "  reducer=ee.Reducer.toList(),\n",
        "  geometry=geometry,\n",
        "  scale=100,\n",
        "  tileScale = 16);\n",
        "# get data into three different arrays\n",
        "data_sm_2021_Jan_August_test= np.array((ee.Array(latlon.get(\"suspended_matter\")).getInfo()))"
      ],
      "metadata": {
        "id": "OsoVcJJkWdcx"
      },
      "execution_count": null,
      "outputs": []
    },
    {
      "cell_type": "markdown",
      "source": [
        "### Training Data"
      ],
      "metadata": {
        "id": "Q7o3hpe_kHBG"
      }
    },
    {
      "cell_type": "code",
      "source": [
        "start1 = '2021-01-01'\n",
        "end1 = '2021-06-30'"
      ],
      "metadata": {
        "id": "mFH-YyvPnNvI"
      },
      "execution_count": null,
      "outputs": []
    },
    {
      "cell_type": "code",
      "source": [
        "data = ee.ImageCollection('COPERNICUS/S3/OLCI').filterDate(start1, end1).filterBounds(geometry)\n",
        "\n",
        "rgb = data.select(['Oa08_radiance', 'Oa06_radiance', 'Oa04_radiance'])\\\n",
        "              .median().multiply(ee.Image([0.00876539, 0.0123538, 0.0115198])).clip(geometry)\n",
        "dm_2021_Jan_June = rgb.select('Oa08_radiance').divide(rgb.select('Oa04_radiance')).rename('dom')\n",
        "suspended_matter__2021_Jan_June = rgb.select('Oa08_radiance').divide(rgb.select('Oa06_radiance')).rename('suspended_matter')\n"
      ],
      "metadata": {
        "id": "G8Tgvf5jnOb1"
      },
      "execution_count": null,
      "outputs": []
    },
    {
      "cell_type": "code",
      "source": [
        "latlon = ee.Image.pixelLonLat().addBands(dm_2021_Jan_June)\n",
        "# apply reducer to list\n",
        "latlon = latlon.reduceRegion(\n",
        "  reducer=ee.Reducer.toList(),\n",
        "  geometry=geometry,\n",
        "  scale=100,\n",
        "  tileScale = 16);\n",
        "# get data into three different arrays\n",
        "data_dom_2021_Jan_June = np.array((ee.Array(latlon.get(\"dom\")).getInfo()))"
      ],
      "metadata": {
        "id": "VvDImmqPnRhB"
      },
      "execution_count": null,
      "outputs": []
    },
    {
      "cell_type": "code",
      "source": [
        "latlon = ee.Image.pixelLonLat().addBands(suspended_matter__2021_Jan_June)\n",
        "# apply reducer to list\n",
        "latlon = latlon.reduceRegion(\n",
        "  reducer=ee.Reducer.toList(),\n",
        "  geometry=geometry,\n",
        "  scale=100,\n",
        "  tileScale = 16);\n",
        "# get data into three different arrays\n",
        "data_sm_2021_Jan_June= np.array((ee.Array(latlon.get(\"suspended_matter\")).getInfo()))"
      ],
      "metadata": {
        "id": "PKEObLjnoYkR"
      },
      "execution_count": null,
      "outputs": []
    },
    {
      "cell_type": "code",
      "source": [
        "start2 = '2021-07-31'\n",
        "end2 = '2021-10-31'\n",
        "\n",
        "data = ee.ImageCollection('COPERNICUS/S3/OLCI').filterDate(start2, end2).filterBounds(geometry)\n",
        "\n",
        "rgb = data.select(['Oa08_radiance', 'Oa06_radiance', 'Oa04_radiance'])\\\n",
        "              .median().multiply(ee.Image([0.00876539, 0.0123538, 0.0115198])).clip(geometry)\n",
        "dm_2021_July_Oct = rgb.select('Oa08_radiance').divide(rgb.select('Oa04_radiance')).rename('dom')\n",
        "suspended_matter__2021_July_Oct = rgb.select('Oa08_radiance').divide(rgb.select('Oa06_radiance')).rename('suspended_matter')\n",
        "\n",
        "latlon = ee.Image.pixelLonLat().addBands(dm_2021_July_Oct)\n",
        "# apply reducer to list\n",
        "latlon = latlon.reduceRegion(\n",
        "  reducer=ee.Reducer.toList(),\n",
        "  geometry=geometry,\n",
        "  scale=100,\n",
        "  tileScale = 16);\n",
        "# get data into three different arrays\n",
        "data_dom_2021_July_Oct = np.array((ee.Array(latlon.get(\"dom\")).getInfo()))\n",
        "\n",
        "latlon = ee.Image.pixelLonLat().addBands(suspended_matter__2021_July_Oct)\n",
        "# apply reducer to list\n",
        "latlon = latlon.reduceRegion(\n",
        "  reducer=ee.Reducer.toList(),\n",
        "  geometry=geometry,\n",
        "  scale=100,\n",
        "  tileScale = 16);\n",
        "# get data into three different arrays\n",
        "data_sm_2021_July_Oct= np.array((ee.Array(latlon.get(\"suspended_matter\")).getInfo()))\n",
        "\n",
        "\n",
        "\n",
        "start3 = '2021-11-30'\n",
        "end3 = '2021-12-31'\n",
        "\n",
        "data = ee.ImageCollection('COPERNICUS/S3/OLCI').filterDate(start3, end3).filterBounds(geometry)\n",
        "\n",
        "rgb = data.select(['Oa08_radiance', 'Oa06_radiance', 'Oa04_radiance'])\\\n",
        "              .median().multiply(ee.Image([0.00876539, 0.0123538, 0.0115198])).clip(geometry)\n",
        "dm_2021_Nov_Dec = rgb.select('Oa08_radiance').divide(rgb.select('Oa04_radiance')).rename('dom')\n",
        "suspended_matter__2021_Nov_Dec = rgb.select('Oa08_radiance').divide(rgb.select('Oa06_radiance')).rename('suspended_matter')\n",
        "\n",
        "latlon = ee.Image.pixelLonLat().addBands(dm_2021_Nov_Dec)\n",
        "# apply reducer to list\n",
        "latlon = latlon.reduceRegion(\n",
        "  reducer=ee.Reducer.toList(),\n",
        "  geometry=geometry,\n",
        "  scale=100,\n",
        "  tileScale = 16);\n",
        "# get data into three different arrays\n",
        "data_dom_2021_Nov_Dec = np.array((ee.Array(latlon.get(\"dom\")).getInfo()))\n",
        "\n",
        "latlon = ee.Image.pixelLonLat().addBands(suspended_matter__2021_Nov_Dec)\n",
        "# apply reducer to list\n",
        "latlon = latlon.reduceRegion(\n",
        "  reducer=ee.Reducer.toList(),\n",
        "  geometry=geometry,\n",
        "  scale=100,\n",
        "  tileScale = 16);\n",
        "# get data into three different arrays\n",
        "data_sm_2021_Nov_Dec = np.array((ee.Array(latlon.get(\"suspended_matter\")).getInfo()))"
      ],
      "metadata": {
        "id": "i9QaNYiv63kF"
      },
      "execution_count": null,
      "outputs": []
    },
    {
      "cell_type": "markdown",
      "source": [
        "### Temperature Calculation"
      ],
      "metadata": {
        "id": "r1bwwPqEm_S4"
      }
    },
    {
      "cell_type": "code",
      "source": [
        "latlon = ee.Image.pixelLonLat().addBands(temp)\n",
        "\n",
        "\n",
        "latlon = latlon.reduceRegion(\n",
        "  reducer=ee.Reducer.toList(),\n",
        "  geometry=geometry,\n",
        "  scale=100);\n",
        "\n",
        "data_lst = np.array((ee.Array(latlon.get(\"temp\")).getInfo()))\n",
        "# geemap.ee_to_numpy(dataset, region=geometry)"
      ],
      "metadata": {
        "id": "MG-gH2yOmuYN"
      },
      "execution_count": null,
      "outputs": []
    },
    {
      "cell_type": "markdown",
      "source": [
        "### Turbidity Calculation"
      ],
      "metadata": {
        "id": "DnYuJx-tnA7H"
      }
    },
    {
      "cell_type": "code",
      "source": [
        "latlon = ee.Image.pixelLonLat().addBands(ndti)\n",
        "# apply reducer to list\n",
        "latlon = latlon.reduceRegion(\n",
        "  reducer=ee.Reducer.toList(),\n",
        "  geometry=geometry,\n",
        "  scale=100);\n",
        "# get data into three different arrays\n",
        "data_ndti = np.array((ee.Array(latlon.get(\"ndti\")).getInfo()))"
      ],
      "metadata": {
        "id": "mF4IAKtNRvVY"
      },
      "execution_count": null,
      "outputs": []
    },
    {
      "cell_type": "markdown",
      "source": [
        "### Salinity Calculation"
      ],
      "metadata": {
        "id": "Q4mInpBmnCpq"
      }
    },
    {
      "cell_type": "code",
      "source": [
        "latlon = ee.Image.pixelLonLat().addBands(ndsi)\n",
        "# apply reducer to list\n",
        "latlon = latlon.reduceRegion(\n",
        "  reducer=ee.Reducer.toList(),\n",
        "  geometry=geometry,\n",
        "  scale=100);\n",
        "# get data into three different arrays\n",
        "data_ndsi = np.array((ee.Array(latlon.get(\"ndsi\")).getInfo()))"
      ],
      "metadata": {
        "id": "qGh2Y2XCmjwC"
      },
      "execution_count": null,
      "outputs": []
    },
    {
      "cell_type": "markdown",
      "source": [
        "### Chlorophyll Calculation"
      ],
      "metadata": {
        "id": "LKU-FBTRtxEl"
      }
    },
    {
      "cell_type": "code",
      "source": [
        "latlon = ee.Image.pixelLonLat().addBands(ndci)\n",
        "# apply reducer to list\n",
        "latlon = latlon.reduceRegion(\n",
        "  reducer=ee.Reducer.toList(),\n",
        "  geometry=geometry,\n",
        "  scale=100);\n",
        "# get data into three different arrays\n",
        "data_ndci = np.array((ee.Array(latlon.get(\"ndci\")).getInfo()))"
      ],
      "metadata": {
        "id": "WIs1ymgwXac4"
      },
      "execution_count": null,
      "outputs": []
    },
    {
      "cell_type": "markdown",
      "source": [
        "### Dissolved Oxygen Calculation"
      ],
      "metadata": {
        "id": "iuKjQfsTt3fg"
      }
    },
    {
      "cell_type": "code",
      "source": [
        "latlon = ee.Image.pixelLonLat().addBands(dissolvedoxygen)\n",
        "# apply reducer to list\n",
        "latlon = latlon.reduceRegion(\n",
        "  reducer=ee.Reducer.toList(),\n",
        "  geometry=geometry,\n",
        "  scale=100,\n",
        "  tileScale = 16);\n",
        "# get data into three different arrays\n",
        "data_do = np.array((ee.Array(latlon.get(\"dissolvedoxygen\")).getInfo()))"
      ],
      "metadata": {
        "id": "bPjTGx6cRvPb"
      },
      "execution_count": null,
      "outputs": []
    },
    {
      "cell_type": "markdown",
      "source": [
        "### pH Calculation"
      ],
      "metadata": {
        "id": "GgeJU1r-uALL"
      }
    },
    {
      "cell_type": "code",
      "source": [
        "latlon = ee.Image.pixelLonLat().addBands(ph)\n",
        "# apply reducer to list\n",
        "latlon = latlon.reduceRegion(\n",
        "  reducer=ee.Reducer.toList(),\n",
        "  geometry=geometry,\n",
        "  scale=100);\n",
        "# get data into three different arrays\n",
        "data_ph = np.array((ee.Array(latlon.get(\"ph\")).getInfo()))"
      ],
      "metadata": {
        "id": "q0iaeUDqRvMl"
      },
      "execution_count": null,
      "outputs": []
    },
    {
      "cell_type": "markdown",
      "source": [
        "## Concating dissolved organic matter and suspended matter values"
      ],
      "metadata": {
        "id": "4-AuNc4p8JQd"
      }
    },
    {
      "cell_type": "code",
      "source": [
        "dm = [pd.DataFrame(data_dom_2021_Jan_June, columns = ['Dissolved Organic Matter']),\\\n",
        "      pd.DataFrame(data_dom_2021_July_Oct, columns = ['Dissolved Organic Matter']),\\\n",
        "      pd.DataFrame(data_dom_2021_Nov_Dec, columns = ['Dissolved Organic Matter'])]\n",
        "\n",
        "sm = [pd.DataFrame(data_sm_2021_Jan_June, columns = ['Suspended Matter']),\\\n",
        "      pd.DataFrame(data_sm_2021_July_Oct, columns = ['Suspended Matter']),\\\n",
        "      pd.DataFrame(data_sm_2021_Nov_Dec, columns = ['Suspended Matter'])]\n",
        "data_dom = pd.concat(dm, sort=False, ignore_index=True)\n",
        "data_sm = pd.concat(sm, sort=False, ignore_index=True)"
      ],
      "metadata": {
        "id": "vYQNqttT7r7Q"
      },
      "execution_count": null,
      "outputs": []
    },
    {
      "cell_type": "markdown",
      "source": [
        "## Creating Dataframe"
      ],
      "metadata": {
        "id": "2TgvZICBE5YC"
      }
    },
    {
      "cell_type": "code",
      "source": [
        "df = pd.concat([pd.DataFrame(data_do, columns = ['Dissolved Oxygen']),\\\n",
        "           pd.DataFrame(data_ndsi, columns = ['Salinity']),\\\n",
        "           pd.DataFrame(data_lst, columns = ['Temperature']),\\\n",
        "           pd.DataFrame(data_ph, columns = ['pH']),\\\n",
        "           pd.DataFrame(data_ndti, columns = ['Turbidity']),\\\n",
        "           pd.DataFrame(data_dom, columns = ['Dissolved Organic Matter']),\\\n",
        "           pd.DataFrame(data_sm, columns = ['Suspended Matter']),\\\n",
        "           pd.DataFrame(data_ndci, columns = ['Chlorophyll'])], axis=1, sort=False)"
      ],
      "metadata": {
        "id": "7IKrUXIARvJl"
      },
      "execution_count": null,
      "outputs": []
    },
    {
      "cell_type": "code",
      "source": [
        "df"
      ],
      "metadata": {
        "id": "1lY5VzxhRvGv"
      },
      "execution_count": null,
      "outputs": []
    },
    {
      "cell_type": "markdown",
      "source": [
        "## Converting to CSV files"
      ],
      "metadata": {
        "id": "iXmjpN5jEy3l"
      }
    },
    {
      "cell_type": "code",
      "source": [
        "df.to_csv('Data_2021_Tappar_Lake',index=False)"
      ],
      "metadata": {
        "id": "TMBCih2k5kj7"
      },
      "execution_count": null,
      "outputs": []
    },
    {
      "cell_type": "markdown",
      "source": [
        "## Test Data"
      ],
      "metadata": {
        "id": "sfxZEZBgj587"
      }
    },
    {
      "cell_type": "code",
      "source": [
        "df2 = pd.concat([pd.DataFrame(data_do, columns = ['Dissolved Oxygen']),\\\n",
        "           pd.DataFrame(data_ndsi, columns = ['Salinity']),\\\n",
        "           pd.DataFrame(data_lst, columns = ['Temperature']),\\\n",
        "           pd.DataFrame(data_ph, columns = ['pH']),\\\n",
        "           pd.DataFrame(data_ndti, columns = ['Turbidity']),\\\n",
        "           pd.DataFrame(data_dom_2021_Jan_August_test, columns = ['Dissolved Organic Matter']),\\\n",
        "           pd.DataFrame(data_sm_2021_Jan_August_test, columns = ['Suspended Matter']),\\\n",
        "           pd.DataFrame(data_ndci, columns = ['Chlorophyll'])], axis=1, sort=False)\n",
        "df2.head()\n",
        "df2.to_csv('Test_Data_2021_Jan_August_Kankaria_Lake',index=False)"
      ],
      "metadata": {
        "id": "aWqHNZV_5rNN"
      },
      "execution_count": null,
      "outputs": []
    }
  ]
}